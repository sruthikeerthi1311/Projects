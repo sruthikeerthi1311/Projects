{
 "cells": [
  {
   "cell_type": "code",
   "execution_count": 23,
   "metadata": {
    "colab": {
     "base_uri": "https://localhost:8080/",
     "height": 36
    },
    "colab_type": "code",
    "id": "hdltWTeK7UZ9",
    "outputId": "cf9780b5-7989-42f8-8718-7b2dce7a1661"
   },
   "outputs": [
    {
     "name": "stdout",
     "output_type": "stream",
     "text": [
      "Drive already mounted at /content/drive; to attempt to forcibly remount, call drive.mount(\"/content/drive\", force_remount=True).\n"
     ]
    }
   ],
   "source": [
    "# from google.colab import drive\n",
    "# drive.mount('/content/drive')"
   ]
  },
  {
   "cell_type": "code",
   "execution_count": 1,
   "metadata": {
    "colab": {},
    "colab_type": "code",
    "id": "sqIUQEnry5Dp"
   },
   "outputs": [
    {
     "name": "stderr",
     "output_type": "stream",
     "text": [
      "Using TensorFlow backend.\n"
     ]
    }
   ],
   "source": [
    "from keras.preprocessing.image import ImageDataGenerator\n",
    "from keras.models import Sequential\n",
    "from keras.layers import Conv2D, MaxPooling2D\n",
    "from keras.layers import Activation, Dropout, Flatten, Dense, Reshape,UpSampling2D"
   ]
  },
  {
   "cell_type": "code",
   "execution_count": 2,
   "metadata": {
    "colab": {},
    "colab_type": "code",
    "id": "OlniV5ZNy5GK"
   },
   "outputs": [],
   "source": [
    "train_dir = 'flowers/train'\n",
    "val_dir = 'flowers/test'\n",
    "train_datagen = ImageDataGenerator(rescale=1./255)\n",
    "val_datagen = ImageDataGenerator(rescale=1./ 255)"
   ]
  },
  {
   "cell_type": "code",
   "execution_count": 3,
   "metadata": {
    "colab": {
     "base_uri": "https://localhost:8080/",
     "height": 54
    },
    "colab_type": "code",
    "id": "kbR_M6d7y5HI",
    "outputId": "7525a133-dddc-452e-f871-46d81d9690cc"
   },
   "outputs": [
    {
     "name": "stdout",
     "output_type": "stream",
     "text": [
      "Found 60 images belonging to 3 classes.\n",
      "Found 15 images belonging to 3 classes.\n"
     ]
    }
   ],
   "source": [
    "train_gen=train_datagen.flow_from_directory(train_dir,target_size=(32,32),batch_size=4)\n",
    "val_gen=val_datagen.flow_from_directory(val_dir,target_size=(32,32),batch_size=4)"
   ]
  },
  {
   "cell_type": "code",
   "execution_count": 8,
   "metadata": {
    "colab": {
     "base_uri": "https://localhost:8080/",
     "height": 483
    },
    "colab_type": "code",
    "id": "NFFO_9iby5In",
    "outputId": "ed3d6ef8-f718-4839-f683-ad19f88470bd",
    "scrolled": true
   },
   "outputs": [
    {
     "name": "stdout",
     "output_type": "stream",
     "text": [
      "_________________________________________________________________\n",
      "Layer (type)                 Output Shape              Param #   \n",
      "=================================================================\n",
      "conv2d_3 (Conv2D)            (None, 30, 30, 16)        448       \n",
      "_________________________________________________________________\n",
      "max_pooling2d_3 (MaxPooling2 (None, 15, 15, 16)        0         \n",
      "_________________________________________________________________\n",
      "conv2d_4 (Conv2D)            (None, 13, 13, 8)         1160      \n",
      "_________________________________________________________________\n",
      "max_pooling2d_4 (MaxPooling2 (None, 6, 6, 8)           0         \n",
      "_________________________________________________________________\n",
      "flatten_2 (Flatten)          (None, 288)               0         \n",
      "_________________________________________________________________\n",
      "dense_3 (Dense)              (None, 8)                 2312      \n",
      "_________________________________________________________________\n",
      "dense_4 (Dense)              (None, 3)                 27        \n",
      "=================================================================\n",
      "Total params: 3,947\n",
      "Trainable params: 3,947\n",
      "Non-trainable params: 0\n",
      "_________________________________________________________________\n"
     ]
    }
   ],
   "source": [
    "autoencoder=Sequential()\n",
    "autoencoder.add(Conv2D(16,(3,3),activation='relu',input_shape=(32,32,3)))\n",
    "autoencoder.add(MaxPooling2D((2,2)))\n",
    "autoencoder.add(Conv2D(8,(3,3),activation='relu'))\n",
    "autoencoder.add(MaxPooling2D((2,2)))\n",
    "autoencoder.add(Flatten())\n",
    "autoencoder.add(Dense(8,activation='relu'))\n",
    "autoencoder.add(Dense(3,activation='softmax'))\n",
    "autoencoder.summary()"
   ]
  },
  {
   "cell_type": "code",
   "execution_count": 9,
   "metadata": {
    "colab": {},
    "colab_type": "code",
    "id": "7wW1zcd5y5Js"
   },
   "outputs": [],
   "source": [
    "autoencoder.compile(loss='categorical_crossentropy',optimizer='adam',metrics=['accuracy'])"
   ]
  },
  {
   "cell_type": "code",
   "execution_count": 10,
   "metadata": {
    "colab": {
     "base_uri": "https://localhost:8080/",
     "height": 223
    },
    "colab_type": "code",
    "id": "TzvvEOJfy5Kd",
    "outputId": "565e25f2-f5cd-48d2-b123-39d4ebcd9966"
   },
   "outputs": [
    {
     "name": "stdout",
     "output_type": "stream",
     "text": [
      "Epoch 1/6\n",
      "60/60 [==============================] - 5s 89ms/step - loss: 0.8431 - acc: 0.6667 - val_loss: 0.3976 - val_acc: 0.9464\n",
      "Epoch 2/6\n",
      "60/60 [==============================] - 5s 83ms/step - loss: 0.2708 - acc: 0.9167 - val_loss: 0.1423 - val_acc: 0.9298\n",
      "Epoch 3/6\n",
      "60/60 [==============================] - 5s 82ms/step - loss: 0.0921 - acc: 0.9917 - val_loss: 0.0593 - val_acc: 0.9464\n",
      "Epoch 4/6\n",
      "60/60 [==============================] - 5s 84ms/step - loss: 0.0447 - acc: 1.0000 - val_loss: 0.0820 - val_acc: 0.9286\n",
      "Epoch 5/6\n",
      "60/60 [==============================] - 5s 79ms/step - loss: 0.0266 - acc: 1.0000 - val_loss: 0.0420 - val_acc: 1.0000\n",
      "Epoch 6/6\n",
      "60/60 [==============================] - 5s 87ms/step - loss: 0.0117 - acc: 1.0000 - val_loss: 0.0291 - val_acc: 1.0000\n"
     ]
    },
    {
     "data": {
      "text/plain": [
       "<keras.callbacks.History at 0x19bf4ee41d0>"
      ]
     },
     "execution_count": 10,
     "metadata": {},
     "output_type": "execute_result"
    }
   ],
   "source": [
    "autoencoder.fit_generator(train_gen,steps_per_epoch=60,epochs=6,validation_data=val_gen,validation_steps=15)"
   ]
  },
  {
   "cell_type": "code",
   "execution_count": 11,
   "metadata": {
    "colab": {
     "base_uri": "https://localhost:8080/",
     "height": 407
    },
    "colab_type": "code",
    "id": "CTmgtDnay5L1",
    "outputId": "eb4b4911-91b2-47fb-c46e-023d2d42895d"
   },
   "outputs": [
    {
     "name": "stdout",
     "output_type": "stream",
     "text": [
      "_________________________________________________________________\n",
      "Layer (type)                 Output Shape              Param #   \n",
      "=================================================================\n",
      "conv2d_5 (Conv2D)            (None, 30, 30, 16)        448       \n",
      "_________________________________________________________________\n",
      "max_pooling2d_5 (MaxPooling2 (None, 15, 15, 16)        0         \n",
      "_________________________________________________________________\n",
      "max_pooling2d_6 (MaxPooling2 (None, 7, 7, 16)          0         \n",
      "_________________________________________________________________\n",
      "up_sampling2d_1 (UpSampling2 (None, 14, 14, 16)        0         \n",
      "_________________________________________________________________\n",
      "flatten_3 (Flatten)          (None, 3136)              0         \n",
      "_________________________________________________________________\n",
      "dense_5 (Dense)              (None, 8)                 25096     \n",
      "_________________________________________________________________\n",
      "dense_6 (Dense)              (None, 3)                 27        \n",
      "=================================================================\n",
      "Total params: 25,571\n",
      "Trainable params: 25,571\n",
      "Non-trainable params: 0\n",
      "_________________________________________________________________\n"
     ]
    }
   ],
   "source": [
    "model=Sequential()\n",
    "model.add(Conv2D(16,(3,3),activation='relu',input_shape=(32,32,3)))\n",
    "model.add(MaxPooling2D((2,2)))\n",
    "model.add(MaxPooling2D((2,2)))\n",
    "model.add(UpSampling2D((2, 2)))\n",
    "model.add(Flatten())\n",
    "model.add(Dense(8,activation='relu'))\n",
    "model.add(Dense(3,activation='softmax'))\n",
    "model.summary()"
   ]
  },
  {
   "cell_type": "code",
   "execution_count": 12,
   "metadata": {
    "colab": {
     "base_uri": "https://localhost:8080/",
     "height": 407
    },
    "colab_type": "code",
    "id": "jlspQgYhy5NB",
    "outputId": "20e40ef2-3b1f-4dc0-fb1f-95175012daed"
   },
   "outputs": [
    {
     "name": "stdout",
     "output_type": "stream",
     "text": [
      "Epoch 1/10\n",
      "60/60 [==============================] - 6s 107ms/step - loss: 0.7297 - acc: 0.6250 - val_loss: 0.5332 - val_acc: 0.9298\n",
      "Epoch 2/10\n",
      "60/60 [==============================] - 5s 76ms/step - loss: 0.3001 - acc: 0.9500 - val_loss: 0.3121 - val_acc: 0.8571\n",
      "Epoch 3/10\n",
      "60/60 [==============================] - 5s 87ms/step - loss: 0.1163 - acc: 0.9917 - val_loss: 0.1940 - val_acc: 0.9464\n",
      "Epoch 4/10\n",
      "60/60 [==============================] - 5s 77ms/step - loss: 0.1079 - acc: 0.9583 - val_loss: 0.1710 - val_acc: 0.9286\n",
      "Epoch 5/10\n",
      "60/60 [==============================] - 5s 89ms/step - loss: 0.0534 - acc: 0.9958 - val_loss: 0.1904 - val_acc: 0.9298\n",
      "Epoch 6/10\n",
      "60/60 [==============================] - 5s 77ms/step - loss: 0.0333 - acc: 1.0000 - val_loss: 0.2057 - val_acc: 0.8750\n",
      "Epoch 7/10\n",
      "60/60 [==============================] - 5s 88ms/step - loss: 0.0195 - acc: 1.0000 - val_loss: 0.2477 - val_acc: 0.8571\n",
      "Epoch 8/10\n",
      "60/60 [==============================] - 5s 79ms/step - loss: 0.0171 - acc: 1.0000 - val_loss: 0.2591 - val_acc: 0.9286\n",
      "Epoch 9/10\n",
      "60/60 [==============================] - 5s 86ms/step - loss: 0.0126 - acc: 1.0000 - val_loss: 0.2051 - val_acc: 0.8772\n",
      "Epoch 10/10\n",
      "60/60 [==============================] - 5s 78ms/step - loss: 0.0080 - acc: 1.0000 - val_loss: 0.2923 - val_acc: 0.9107\n"
     ]
    },
    {
     "data": {
      "text/plain": [
       "<keras.callbacks.History at 0x19bf6abe320>"
      ]
     },
     "execution_count": 12,
     "metadata": {},
     "output_type": "execute_result"
    }
   ],
   "source": [
    "model.compile(loss='categorical_crossentropy',optimizer='adam',metrics=['accuracy'])\n",
    "model.fit_generator(train_gen,steps_per_epoch=60,epochs=10,validation_data=val_gen,validation_steps=15)"
   ]
  },
  {
   "cell_type": "code",
   "execution_count": 19,
   "metadata": {
    "colab": {},
    "colab_type": "code",
    "id": "lzp0pNYRy5Oi"
   },
   "outputs": [],
   "source": [
    "from os import listdir\n",
    "from os.path import isfile, join\n",
    "from keras.preprocessing.image import ImageDataGenerator\n",
    "import scipy.ndimage\n",
    "import numpy as np\n",
    "from keras.models import load_model\n",
    "from keras.preprocessing import image"
   ]
  },
  {
   "cell_type": "code",
   "execution_count": 21,
   "metadata": {},
   "outputs": [],
   "source": [
    "img_width, img_height = 32, 32"
   ]
  },
  {
   "cell_type": "code",
   "execution_count": 23,
   "metadata": {},
   "outputs": [
    {
     "name": "stdout",
     "output_type": "stream",
     "text": [
      "['daisy_0826.jpg', 'daisy_0827.jpg', 'daisy_0828.jpg', 'daisy_0829.jpg', 'daisy_0830.jpg', 'dandelion_0993.jpg', 'dandelion_0994.jpg', 'dandelion_0995.jpg', 'dandelion_0996.jpg', 'dandelion_0997.jpg', 'fritillary_0666.jpg', 'fritillary_0667.jpg', 'fritillary_0668.jpg', 'fritillary_0669.jpg', 'fritillary_0670.jpg']\n",
      "daisy_0826.jpg: daisy\n",
      "daisy_0827.jpg: daisy\n",
      "daisy_0828.jpg: daisy\n",
      "daisy_0829.jpg: daisy\n",
      "daisy_0830.jpg: daisy\n",
      "dandelion_0993.jpg: dandelion\n",
      "dandelion_0994.jpg: dandelion\n",
      "dandelion_0995.jpg: dandelion\n",
      "dandelion_0996.jpg: dandelion\n",
      "dandelion_0997.jpg: dandelion\n",
      "fritillary_0666.jpg: fritillary\n",
      "fritillary_0667.jpg: fritillary\n",
      "fritillary_0668.jpg: fritillary\n",
      "fritillary_0669.jpg: fritillary\n",
      "fritillary_0670.jpg: fritillary\n",
      "Total Daisy : 5\n",
      "Total Dandelion : 5\n",
      "Total fritillary :  5\n"
     ]
    }
   ],
   "source": [
    "mypath = \"flowers/test1/\"\n",
    "onlyfiles = [f for f in listdir(mypath) if isfile(join(mypath, f))]\n",
    "print(onlyfiles)\n",
    "# predicting images\n",
    "daisy_counter = 0 \n",
    "dandelion_counter  = 0\n",
    "fritillary_counter = 0\n",
    "for file in onlyfiles:\n",
    "    img = image.load_img(mypath+file, target_size=(img_width, img_height))\n",
    "    x = image.img_to_array(img)\n",
    "    x = np.expand_dims(x, axis=0)\n",
    "    \n",
    "    images = np.vstack([x])\n",
    "    classes = model.predict_classes(images, batch_size=10)\n",
    "#     classes = classes[0][0]\n",
    "    \n",
    "    if classes == 0:\n",
    "        print(file + \": \" + 'daisy')\n",
    "        daisy_counter += 1\n",
    "    elif classes == 1:\n",
    "        print(file + \": \" + 'dandelion')\n",
    "        dandelion_counter += 1\n",
    "    elif classes == 2 :\n",
    "        print(file + \": \" + 'fritillary' )\n",
    "        fritillary_counter+=1\n",
    "print(\"Total Daisy :\",daisy_counter)\n",
    "print(\"Total Dandelion :\",dandelion_counter)\n",
    "print(\"Total fritillary : \",fritillary_counter)\n"
   ]
  },
  {
   "cell_type": "code",
   "execution_count": null,
   "metadata": {},
   "outputs": [],
   "source": []
  }
 ],
 "metadata": {
  "colab": {
   "name": "Autoencoder_classification.ipynb",
   "provenance": [],
   "version": "0.3.2"
  },
  "kernelspec": {
   "display_name": "Python 3",
   "language": "python",
   "name": "python3"
  },
  "language_info": {
   "codemirror_mode": {
    "name": "ipython",
    "version": 3
   },
   "file_extension": ".py",
   "mimetype": "text/x-python",
   "name": "python",
   "nbconvert_exporter": "python",
   "pygments_lexer": "ipython3",
   "version": "3.7.3"
  }
 },
 "nbformat": 4,
 "nbformat_minor": 1
}
